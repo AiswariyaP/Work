{
  "nbformat": 4,
  "nbformat_minor": 0,
  "metadata": {
    "colab": {
      "name": "Untitled6.ipynb",
      "version": "0.3.2",
      "provenance": [],
      "include_colab_link": true
    },
    "kernelspec": {
      "name": "python3",
      "display_name": "Python 3"
    }
  },
  "cells": [
    {
      "cell_type": "markdown",
      "metadata": {
        "id": "view-in-github",
        "colab_type": "text"
      },
      "source": [
        "<a href=\"https://colab.research.google.com/github/AiswariyaP/Work/blob/master/Patterns.ipynb\" target=\"_parent\"><img src=\"https://colab.research.google.com/assets/colab-badge.svg\" alt=\"Open In Colab\"/></a>"
      ]
    },
    {
      "cell_type": "markdown",
      "metadata": {
        "id": "QIUYdCgmVP38",
        "colab_type": "text"
      },
      "source": [
        "## 4 Patterns Using Python"
      ]
    },
    {
      "cell_type": "code",
      "metadata": {
        "id": "xUw70VxFRDt0",
        "colab_type": "code",
        "colab": {
          "base_uri": "https://localhost:8080/",
          "height": 102
        },
        "outputId": "c51baef7-6ba4-4092-dc18-aba76ad44dcd"
      },
      "source": [
        "for i in range (1, 6):\n",
        "  for j in range(1,i+1):\n",
        "    print(\"*\", end=\" \")\n",
        "  print()\n",
        "    "
      ],
      "execution_count": 5,
      "outputs": [
        {
          "output_type": "stream",
          "text": [
            "* \n",
            "* * \n",
            "* * * \n",
            "* * * * \n",
            "* * * * * \n"
          ],
          "name": "stdout"
        }
      ]
    },
    {
      "cell_type": "code",
      "metadata": {
        "id": "TYDsuLtISBtI",
        "colab_type": "code",
        "colab": {
          "base_uri": "https://localhost:8080/",
          "height": 102
        },
        "outputId": "6c6a53cc-e039-46d2-86cc-423026c624fa"
      },
      "source": [
        "for i in range (1, 6):\n",
        "  for j in range(6-i):\n",
        "    print(\"*\", end=\" \")\n",
        "  print()\n",
        "    "
      ],
      "execution_count": 10,
      "outputs": [
        {
          "output_type": "stream",
          "text": [
            "* * * * * \n",
            "* * * * \n",
            "* * * \n",
            "* * \n",
            "* \n"
          ],
          "name": "stdout"
        }
      ]
    },
    {
      "cell_type": "code",
      "metadata": {
        "id": "zxcX5cwfSeiD",
        "colab_type": "code",
        "colab": {
          "base_uri": "https://localhost:8080/",
          "height": 187
        },
        "outputId": "03292b64-baf8-4a27-853d-2a4ce125f31a"
      },
      "source": [
        "n=5;\n",
        "for i in range(n):\n",
        "    for j in range(i):\n",
        "        print ('* ', end=\"\")\n",
        "    print('')\n",
        "\n",
        "for i in range(n,0,-1):\n",
        "    for j in range(i):\n",
        "        print('* ', end=\"\")\n",
        "    print('')"
      ],
      "execution_count": 19,
      "outputs": [
        {
          "output_type": "stream",
          "text": [
            "\n",
            "* \n",
            "* * \n",
            "* * * \n",
            "* * * * \n",
            "* * * * * \n",
            "* * * * \n",
            "* * * \n",
            "* * \n",
            "* \n"
          ],
          "name": "stdout"
        }
      ]
    },
    {
      "cell_type": "code",
      "metadata": {
        "id": "sWNh0DzQS3qE",
        "colab_type": "code",
        "colab": {
          "base_uri": "https://localhost:8080/",
          "height": 187
        },
        "outputId": "0b614f73-29a2-4951-d5d1-578274e118ca"
      },
      "source": [
        "k = 10\n",
        "for i in range(0, 5):\n",
        "    for j in range(0, k):\n",
        "        print(end=\" \")\n",
        "    k = k - 2\n",
        "    for j in range(0, i+1):\n",
        "        print(\"* \", end=\"\")\n",
        "    print()\n",
        "for i in range(5,0, -1):\n",
        "    for j in range(k, 0,-1):\n",
        "        print(end=\" \")\n",
        "    k = k + 2\n",
        "    for j in range(0, i+1):\n",
        "        print(\"* \", end=\"\")\n",
        "    print()\n",
        "    "
      ],
      "execution_count": 28,
      "outputs": [
        {
          "output_type": "stream",
          "text": [
            "          * \n",
            "        * * \n",
            "      * * * \n",
            "    * * * * \n",
            "  * * * * * \n",
            "* * * * * * \n",
            "  * * * * * \n",
            "    * * * * \n",
            "      * * * \n",
            "        * * \n"
          ],
          "name": "stdout"
        }
      ]
    }
  ]
}