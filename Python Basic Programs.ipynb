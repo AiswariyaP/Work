{
  "nbformat": 4,
  "nbformat_minor": 0,
  "metadata": {
    "colab": {
      "name": "Untitled0.ipynb",
      "version": "0.3.2",
      "provenance": [],
      "collapsed_sections": [],
      "include_colab_link": true
    },
    "kernelspec": {
      "name": "python3",
      "display_name": "Python 3"
    }
  },
  "cells": [
    {
      "cell_type": "markdown",
      "metadata": {
        "id": "view-in-github",
        "colab_type": "text"
      },
      "source": [
        "<a href=\"https://colab.research.google.com/github/AiswariyaP/Work/blob/master/Python%20Basic%20Programs.ipynb\" target=\"_parent\"><img src=\"https://colab.research.google.com/assets/colab-badge.svg\" alt=\"Open In Colab\"/></a>"
      ]
    },
    {
      "cell_type": "markdown",
      "metadata": {
        "id": "k2hOed01PJBX",
        "colab_type": "text"
      },
      "source": [
        
      ]
    },
    {
      "cell_type": "markdown",
      "metadata": {
        "id": "ogal1cSfMDl1",
        "colab_type": "text"
      },
      "source": [
        "# **Problem 1:**\n",
        "\n",
        "---\n",
        "\n",
        "\n",
        " **Check Prime number**\n"
      ]
    },
    {
      "cell_type": "code",
      "metadata": {
        "id": "mj_FJX9pMa7Q",
        "colab_type": "code",
        "colab": {}
      },
      "source": [
        "n= int(input(\"Enter a number\"))\n",
        "if(n>1):\n",
        "  for i in range(2,n) :\n",
        "    if(n%i==0):\n",
        "      print(\"Not a prime number\")\n",
        "      break\n",
        "  else:\n",
        "      print(\"Prime Number\")\n",
        "else:\n",
        "  print(\"Not a Prime number\")"
      ],
      "execution_count": 0,
      "outputs": []
    },
    {
      "cell_type": "markdown",
      "metadata": {
        "id": "I1ayAvWeRJ6n",
        "colab_type": "text"
      },
      "source": [
        "# **Problem 2:**\n",
        "\n",
        "---\n",
        "\n",
        "\n",
        " **Print fibonacci series**"
      ]
    },
    {
      "cell_type": "code",
      "metadata": {
        "id": "mVfR88g2RPEa",
        "colab_type": "code",
        "colab": {}
      },
      "source": [
        "n= int(input(\"Enter number of terms\"))\n",
        "a=0\n",
        "b=1\n",
        "count=0\n",
        "if(n<0):\n",
        "  print(\"Enter a positive number\")\n",
        "elif(n==1):\n",
        "  print(\"Fibonacci sequence upto\",n,\":\")\n",
        "  print(a)\n",
        "else:\n",
        "  print(\"Fibonacci sequence upto\",n,\":\")\n",
        "  while(count<n):\n",
        "    print(a)\n",
        "    c=a+b\n",
        "    a=b\n",
        "    b=c\n",
        "    count=count+1\n",
        "  "
      ],
      "execution_count": 0,
      "outputs": []
    },
    {
      "cell_type": "markdown",
      "metadata": {
        "id": "hSqmwNXfBFoZ",
        "colab_type": "text"
      },
      "source": [
        "# **Problem 3:**\n",
        "\n",
        "---\n",
        "\n",
        "\n",
        " **Check whether a amstrong or not**"
      ]
    },
    {
      "cell_type": "code",
      "metadata": {
        "id": "CwW0o9wWBQS7",
        "colab_type": "code",
        "colab": {
          "base_uri": "https://localhost:8080/",
          "height": 51
        },
        "outputId": "97a64021-7dff-46cd-88da-9a4e62ca2766"
      },
      "source": [
        "n = int(input(\"Enter a number: \"))\n",
        "sum = 0\n",
        "temp = n\n",
        "while temp > 0:\n",
        "   t = temp % 10\n",
        "   sum += t ** 3\n",
        "   temp //=10\n",
        "   \n",
        "if n == sum:\n",
        "   print(n,\"is an Armstrong number\")\n",
        "else:\n",
        "   print(n,\"is not an Armstrong number\")"
      ],
      "execution_count": 6,
      "outputs": [
        {
          "output_type": "stream",
          "text": [
            "Enter a number: 153\n",
            "153 is an Armstrong number\n"
          ],
          "name": "stdout"
        }
      ]
    },
    {
      "cell_type": "markdown",
      "metadata": {
        "id": "7-tX368OT8h0",
        "colab_type": "text"
      },
      "source": [
        "# **Problem 4:**\n",
        "\n",
        "---\n",
        "\n",
        "\n",
        " **Check a number even or odd**"
      ]
    },
    {
      "cell_type": "code",
      "metadata": {
        "id": "BvSYS_tYYG7i",
        "colab_type": "code",
        "colab": {}
      },
      "source": [
        "n= int(input(\"Enter number of terms\"))\n",
        "if n%2==0:\n",
        "  print(n,\":is an even number\")\n",
        "else:\n",
        "  print(n,\":is an odd number\")"
      ],
      "execution_count": 0,
      "outputs": []
    },
    {
      "cell_type": "markdown",
      "metadata": {
        "id": "VvdtR5XSAlZN",
        "colab_type": "text"
      },
      "source": [
        "# **Problem 5:**\n",
        "\n",
        "---\n",
        "\n",
        "\n",
        " **Print multiplication table for numbers upto 12**"
      ]
    },
    {
      "cell_type": "code",
      "metadata": {
        "id": "-KpCXZbB_Rmr",
        "colab_type": "code",
        "colab": {}
      },
      "source": [
        "for i in range(1,13):\n",
        "  print(\"\\n Table of\",i)\n",
        "  for j in range(1,13):\n",
        "    print(j,\"*\",i,\"=\",i*j)"
      ],
      "execution_count": 0,
      "outputs": []
    },
    {
      "cell_type": "markdown",
      "metadata": {
        "id": "0ynpCOr7AdzT",
        "colab_type": "text"
      },
      "source": [
        "# **Problem 6:**\n",
        "\n",
        "---\n",
        "\n",
        "\n",
        " **Sum of squares of number from 1 to n**"
      ]
    },
    {
      "cell_type": "code",
      "metadata": {
        "id": "XqiKl0vMHV-_",
        "colab_type": "code",
        "colab": {}
      },
      "source": [
        "n=int(input(\"Enter the value of N\"))\n",
        "sum=0\n",
        "for i in range (1,n):\n",
        "  sum=sum+i**2\n",
        "print(\"The sum of square of N intergers is:\",sum)"
      ],
      "execution_count": 0,
      "outputs": []
    },
    {
      "cell_type": "markdown",
      "metadata": {
        "id": "pVbkhRfkIYMR",
        "colab_type": "text"
      },
      "source": [
        "# **Problem 7:**\n",
        "\n",
        "---\n",
        "\n",
        "\n",
        " **Print Even Numbers between 2000 to 3000**"
      ]
    },
    {
      "cell_type": "code",
      "metadata": {
        "id": "pDiuMZ8BzqNM",
        "colab_type": "code",
        "colab": {}
      },
      "source": [
        "for i in range(2000,3000+1):\n",
        "  if(i%2==0):\n",
        "    print(i,end=\" \")\n",
        "  "
      ],
      "execution_count": 0,
      "outputs": []
    },
    {
      "cell_type": "markdown",
      "metadata": {
        "id": "3aNqHmKX2vOy",
        "colab_type": "text"
      },
      "source": [
        "# **Problem 8:**\n",
        "\n",
        "---\n",
        "\n",
        "\n",
        " **Check a number is paliandrome**"
      ]
    },
    {
      "cell_type": "code",
      "metadata": {
        "id": "VgBE05vX2y3u",
        "colab_type": "code",
        "colab": {}
      },
      "source": [
        "input=input(str(\"Enter a number\"))\n",
        "r=input==input[::-1]\n",
        "print(\"The number\",input,\"is paliandrome is?\",r)"
      ],
      "execution_count": 0,
      "outputs": []
    },
    {
      "cell_type": "markdown",
      "metadata": {
        "id": "l6nx3cMB5wZ2",
        "colab_type": "text"
      },
      "source": [
        "# **Problem 9:**\n",
        "\n",
        "---\n",
        "\n",
        "\n",
        " **Concatenate a list**"
      ]
    },
    {
      "cell_type": "code",
      "metadata": {
        "id": "GB5IM81W_BbJ",
        "colab_type": "code",
        "colab": {}
      },
      "source": [
        "l1=str(input(\"Enter a number seperated by coma\"))\n",
        "l1=l1.split(\",\")\n",
        "l2=str(input(\"Enter a second number seperated by coma\"))\n",
        "l2=l2.split(\",\")\n",
        "l3=l1+l2\n",
        "print(str(l3))\n",
        "\n"
      ],
      "execution_count": 0,
      "outputs": []
    },
    {
      "cell_type": "markdown",
      "metadata": {
        "id": "BAchhK8x5x_8",
        "colab_type": "text"
      },
     
    }
  ]
}
